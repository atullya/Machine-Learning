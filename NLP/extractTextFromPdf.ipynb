{
 "cells": [
  {
   "cell_type": "code",
   "execution_count": 1,
   "id": "e7255cf4-3910-4e13-af55-399258cfc470",
   "metadata": {},
   "outputs": [],
   "source": [
    "import re\n"
   ]
  },
  {
   "cell_type": "code",
   "execution_count": 2,
   "id": "f89227aa-5acc-40ab-b97d-d65e0681876d",
   "metadata": {},
   "outputs": [],
   "source": [
    "from pdfminer.high_level import extract_pages,extract_text"
   ]
  },
  {
   "cell_type": "code",
   "execution_count": 4,
   "id": "b7d8d25d-8db5-448e-a7c2-d32f138de30a",
   "metadata": {},
   "outputs": [
    {
     "name": "stderr",
     "output_type": "stream",
     "text": [
      "CropBox missing from /Page, defaulting to MediaBox\n"
     ]
    },
    {
     "name": "stdout",
     "output_type": "stream",
     "text": [
      "The Shakespear Enigma \n",
      "\n",
      "In the heart of the quaint village of Eldermere, a mysterious tree stood tall in the town square. Its \n",
      "gnarled branches bore fruits that resembled pears, but with an unusual twist: they seemed to shimmer \n",
      "with a golden hue. The villagers affectionately named it the \"Shakespear\" tree, believing it held magical \n",
      "properties. \n",
      "\n",
      "Legend had it that anyone who tasted a Shakespear would gain a glimpse into their future. Curiosity \n",
      "spread like wildfire, and soon, villagers flocked to the tree, eager for a taste of destiny. Young Emma, a \n",
      "spirited girl with dreams of becoming a writer, felt an undeniable pull toward the shimmering fruit. \n",
      "\n",
      "One crisp autumn morning, she approached the tree, heart racing. With a deep breath, she plucked a \n",
      "Shakespear and took a bite. Instantly, a whirlwind of visions enveloped her. She saw herself standing on a \n",
      "grand stage, the applause of a thousand voices echoing in her ears. In another glimpse, she wandered \n",
      "through enchanted forests, her stories coming to life. \n",
      "\n",
      "Determined to fulfill these dreams, Emma spent every spare moment writing. The villagers, inspired by \n",
      "her passion, began sharing their own tales. The square buzzed with creativity, and soon, Eldermere \n",
      "became a hub of storytelling. \n",
      "\n",
      "As the seasons changed, Emma’s words took flight. She published her first book, a collection of \n",
      "enchanting stories, and it captured the hearts of many beyond Eldermere. The Shakespear tree \n",
      "continued to stand, its golden pears glimmering, a reminder that dreams, when nurtured, could blossom \n",
      "into reality. \n",
      "\n",
      "And so, in the embrace of magic and creativity, the legacy of the Shakespear lived on, inspiring \n",
      "generations to reach for their dreams. \n",
      "\n",
      " \n",
      "\f",
      "\n"
     ]
    }
   ],
   "source": [
    "text=extract_text(\"sample.pdf\")\n",
    "print(text)\n",
    "# for page_layout in extract_pages(\"sample.pdf\"):\n",
    "#     for element in page_layout:\n",
    "#         print(element)"
   ]
  },
  {
   "cell_type": "code",
   "execution_count": 5,
   "id": "9bf6e4a8-686d-4514-b904-b4accea536b9",
   "metadata": {},
   "outputs": [
    {
     "data": {
      "text/plain": [
       "'the shakespear enigma \\n\\nin the heart of the quaint village of eldermere, a mysterious tree stood tall in the town square. its \\ngnarled branches bore fruits that resembled pears, but with an unusual twist: they seemed to shimmer \\nwith a golden hue. the villagers affectionately named it the \"shakespear\" tree, believing it held magical \\nproperties. \\n\\nlegend had it that anyone who tasted a shakespear would gain a glimpse into their future. curiosity \\nspread like wildfire, and soon, villagers flocked to the tree, eager for a taste of destiny. young emma, a \\nspirited girl with dreams of becoming a writer, felt an undeniable pull toward the shimmering fruit. \\n\\none crisp autumn morning, she approached the tree, heart racing. with a deep breath, she plucked a \\nshakespear and took a bite. instantly, a whirlwind of visions enveloped her. she saw herself standing on a \\ngrand stage, the applause of a thousand voices echoing in her ears. in another glimpse, she wandered \\nthrough enchanted forests, her stories coming to life. \\n\\ndetermined to fulfill these dreams, emma spent every spare moment writing. the villagers, inspired by \\nher passion, began sharing their own tales. the square buzzed with creativity, and soon, eldermere \\nbecame a hub of storytelling. \\n\\nas the seasons changed, emma’s words took flight. she published her first book, a collection of \\nenchanting stories, and it captured the hearts of many beyond eldermere. the shakespear tree \\ncontinued to stand, its golden pears glimmering, a reminder that dreams, when nurtured, could blossom \\ninto reality. \\n\\nand so, in the embrace of magic and creativity, the legacy of the shakespear lived on, inspiring \\ngenerations to reach for their dreams. \\n\\n \\n\\x0c'"
      ]
     },
     "execution_count": 5,
     "metadata": {},
     "output_type": "execute_result"
    }
   ],
   "source": [
    "text.lower()"
   ]
  },
  {
   "cell_type": "code",
   "execution_count": 7,
   "id": "420875c1-d853-4164-a902-aa288cfce0c7",
   "metadata": {},
   "outputs": [],
   "source": [
    "pattern=re.compile(r\"[a-zA-Z]+,{1}\\s{1}\")\n",
    "matches=pattern.findall(text)\n"
   ]
  },
  {
   "cell_type": "code",
   "execution_count": 8,
   "id": "be21f9dc-74b6-4129-9a73-d7429a31da34",
   "metadata": {},
   "outputs": [
    {
     "data": {
      "text/plain": [
       "['Eldermere, ',\n",
       " 'pears, ',\n",
       " 'tree, ',\n",
       " 'wildfire, ',\n",
       " 'soon, ',\n",
       " 'tree, ',\n",
       " 'Emma, ',\n",
       " 'writer, ',\n",
       " 'morning, ',\n",
       " 'tree, ',\n",
       " 'breath, ',\n",
       " 'Instantly, ',\n",
       " 'stage, ',\n",
       " 'glimpse, ',\n",
       " 'forests, ',\n",
       " 'dreams, ',\n",
       " 'villagers, ',\n",
       " 'passion, ',\n",
       " 'creativity, ',\n",
       " 'soon, ',\n",
       " 'changed, ',\n",
       " 'book, ',\n",
       " 'stories, ',\n",
       " 'stand, ',\n",
       " 'glimmering, ',\n",
       " 'dreams, ',\n",
       " 'nurtured, ',\n",
       " 'so, ',\n",
       " 'creativity, ',\n",
       " 'on, ']"
      ]
     },
     "execution_count": 8,
     "metadata": {},
     "output_type": "execute_result"
    }
   ],
   "source": [
    "matches"
   ]
  },
  {
   "cell_type": "code",
   "execution_count": 9,
   "id": "b2c92ac6-18aa-4ad0-8b24-88b34d7a2dc0",
   "metadata": {},
   "outputs": [],
   "source": [
    "import nltk"
   ]
  },
  {
   "cell_type": "code",
   "execution_count": 10,
   "id": "af4935d5-e750-44a5-ba50-39d0cb017ece",
   "metadata": {},
   "outputs": [],
   "source": [
    "from nltk import word_tokenize"
   ]
  }
 ],
 "metadata": {
  "kernelspec": {
   "display_name": "Python 3 (ipykernel)",
   "language": "python",
   "name": "python3"
  },
  "language_info": {
   "codemirror_mode": {
    "name": "ipython",
    "version": 3
   },
   "file_extension": ".py",
   "mimetype": "text/x-python",
   "name": "python",
   "nbconvert_exporter": "python",
   "pygments_lexer": "ipython3",
   "version": "3.12.10"
  }
 },
 "nbformat": 4,
 "nbformat_minor": 5
}
