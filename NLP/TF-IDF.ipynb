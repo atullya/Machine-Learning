{
 "cells": [
  {
   "cell_type": "code",
   "execution_count": 3,
   "id": "432a59ec-26f1-4956-9768-d6838aec995f",
   "metadata": {},
   "outputs": [],
   "source": [
    "#TF-IDF, which stands for Term Frequency-Inverse Document Frequency\n",
    "from sklearn.feature_extraction.text import TfidfVectorizer\n",
    "\n",
    "corpus = [\n",
    "    'this is the first document',\n",
    "    'this document is the second document',\n",
    "    'and this is the third one',\n",
    "    'is this the first document'\n",
    "]\n",
    "\n"
   ]
  },
  {
   "cell_type": "code",
   "execution_count": 5,
   "id": "2f9c27b2-8339-4912-8b21-2c34866d0e11",
   "metadata": {},
   "outputs": [
    {
     "name": "stdout",
     "output_type": "stream",
     "text": [
      "{'this': 8, 'is': 3, 'the': 6, 'first': 2, 'document': 1, 'second': 5, 'and': 0, 'third': 7, 'one': 4}\n"
     ]
    }
   ],
   "source": [
    "v=TfidfVectorizer()\n",
    "transfered_output=v.fit_transform(corpus)\n",
    "print(v.vocabulary_)\n",
    "\n",
    "# fit() → learns the vocabulary (the unique words in your corpus) and computes the IDF values.\n",
    "\n",
    "# transform() → creates a sparse matrix with the TF-IDF values for each document.\n",
    "\n",
    "# ✅ v.vocabulary_\n",
    "# This is a dictionary that maps each word (feature) to the column index in the TF-IDF matrix.\n",
    "\n",
    "# 'this' appears in column 8 of the matrix\n",
    "\n",
    "# 'document' appears in column 0\n",
    "\n",
    "# 'first' appears in column 2"
   ]
  },
  {
   "cell_type": "code",
   "execution_count": null,
   "id": "fe81227a-23d9-4374-b6e9-aa7dc66b404c",
   "metadata": {},
   "outputs": [],
   "source": [
    "dir(v)"
   ]
  },
  {
   "cell_type": "code",
   "execution_count": 8,
   "id": "607c6cd8-0ebe-4efd-9a6e-5452165035ed",
   "metadata": {},
   "outputs": [
    {
     "name": "stdout",
     "output_type": "stream",
     "text": [
      "and: 1.916290731874155\n",
      "document: 1.2231435513142097\n",
      "first: 1.5108256237659907\n",
      "is: 1.0\n",
      "one: 1.916290731874155\n",
      "second: 1.916290731874155\n",
      "the: 1.0\n",
      "third: 1.916290731874155\n",
      "this: 1.0\n"
     ]
    }
   ],
   "source": [
    "all_feature_names = v.get_feature_names_out()\n",
    "\n",
    "for word in all_feature_names:\n",
    "    indx = v.vocabulary_.get(word)\n",
    "    print(f\"{word}: {v.idf_[indx]}\")\n",
    "\n",
    "#     1️⃣ v.get_feature_names_out()\n",
    "# → Gets all unique words (features) learned from your corpus — in alphabetical order.\n",
    "\n",
    "# 2️⃣ The for loop\n",
    "# → Goes through each word in this list.\n",
    "\n",
    "# 3️⃣ v.vocabulary_.get(word)\n",
    "# → Finds out which column index this word corresponds to in the TF-IDF matrix.\n",
    "\n",
    "# 4️⃣ v.idf_[indx]\n",
    "# → Gets the IDF (Inverse Document Frequency) value for that word’s column.\n",
    "\n",
    "# 5️⃣ print(f\"{word}: {v.idf_[indx]}\")\n",
    "# → Prints each word along with its IDF value (which shows how rare or unique the word is across all documents).\n",
    "\n",
    "# 💡 Purpose\n",
    "# ✅ This code helps you see how important or rare each word is (via its IDF score) in your document collection.\n",
    "# ✅ High IDF → word is rare across documents → more useful for distinguishing documents.\n",
    "# ✅ Low IDF → word is common → less useful for distinguishing documents."
   ]
  },
  {
   "cell_type": "code",
   "execution_count": 9,
   "id": "68d9eab2-0747-4bbc-a5f8-93d4b824b2ff",
   "metadata": {},
   "outputs": [
    {
     "data": {
      "text/plain": [
       "['this is the first document', 'this document is the second document']"
      ]
     },
     "execution_count": 9,
     "metadata": {},
     "output_type": "execute_result"
    }
   ],
   "source": [
    "corpus[:2]"
   ]
  },
  {
   "cell_type": "code",
   "execution_count": 10,
   "id": "49817fdd-b50f-4375-a11a-42b376544ca9",
   "metadata": {},
   "outputs": [
    {
     "data": {
      "text/plain": [
       "<Compressed Sparse Row sparse matrix of dtype 'float64'\n",
       "\twith 21 stored elements and shape (4, 9)>"
      ]
     },
     "execution_count": 10,
     "metadata": {},
     "output_type": "execute_result"
    }
   ],
   "source": [
    "transfered_output"
   ]
  },
  {
   "cell_type": "code",
   "execution_count": 11,
   "id": "2a037201-127c-4951-8ec3-bdf9a0d70ff6",
   "metadata": {},
   "outputs": [
    {
     "data": {
      "text/plain": [
       "array([[0.        , 0.46979139, 0.58028582, 0.38408524, 0.        ,\n",
       "        0.        , 0.38408524, 0.        , 0.38408524],\n",
       "       [0.        , 0.6876236 , 0.        , 0.28108867, 0.        ,\n",
       "        0.53864762, 0.28108867, 0.        , 0.28108867]])"
      ]
     },
     "execution_count": 11,
     "metadata": {},
     "output_type": "execute_result"
    }
   ],
   "source": [
    "transfered_output.toarray()[:2]"
   ]
  },
  {
   "cell_type": "code",
   "execution_count": 20,
   "id": "80475022-c4f4-4b1d-a80e-137d46d4eaa7",
   "metadata": {},
   "outputs": [
    {
     "name": "stdout",
     "output_type": "stream",
     "text": [
      "(24000, 2)\n"
     ]
    }
   ],
   "source": [
    "import pandas as pd\n",
    "df=pd.read_csv(\"Ecommerce_Data.csv\")\n",
    "df.head()\n",
    "print(df.shape)"
   ]
  },
  {
   "cell_type": "code",
   "execution_count": 22,
   "id": "b62239df-f128-4b9b-a505-93e3813abd85",
   "metadata": {},
   "outputs": [
    {
     "data": {
      "text/plain": [
       "label\n",
       "Household                 6000\n",
       "Electronics               6000\n",
       "Clothing & Accessories    6000\n",
       "Books                     6000\n",
       "Name: count, dtype: int64"
      ]
     },
     "execution_count": 22,
     "metadata": {},
     "output_type": "execute_result"
    }
   ],
   "source": [
    "df.label.value_counts() #to count the occurrences of unique values within a Series or a DataFrame column."
   ]
  },
  {
   "cell_type": "code",
   "execution_count": 25,
   "id": "0301659e-c3f2-4528-9cbb-b8971a844827",
   "metadata": {},
   "outputs": [
    {
     "data": {
      "text/html": [
       "<div>\n",
       "<style scoped>\n",
       "    .dataframe tbody tr th:only-of-type {\n",
       "        vertical-align: middle;\n",
       "    }\n",
       "\n",
       "    .dataframe tbody tr th {\n",
       "        vertical-align: top;\n",
       "    }\n",
       "\n",
       "    .dataframe thead th {\n",
       "        text-align: right;\n",
       "    }\n",
       "</style>\n",
       "<table border=\"1\" class=\"dataframe\">\n",
       "  <thead>\n",
       "    <tr style=\"text-align: right;\">\n",
       "      <th></th>\n",
       "      <th>Text</th>\n",
       "      <th>label</th>\n",
       "      <th>label_num</th>\n",
       "    </tr>\n",
       "  </thead>\n",
       "  <tbody>\n",
       "    <tr>\n",
       "      <th>0</th>\n",
       "      <td>Urban Ladder Eisner Low Back Study-Office Comp...</td>\n",
       "      <td>Household</td>\n",
       "      <td>0</td>\n",
       "    </tr>\n",
       "    <tr>\n",
       "      <th>1</th>\n",
       "      <td>Contrast living Wooden Decorative Box,Painted ...</td>\n",
       "      <td>Household</td>\n",
       "      <td>0</td>\n",
       "    </tr>\n",
       "    <tr>\n",
       "      <th>2</th>\n",
       "      <td>IO Crest SY-PCI40010 PCI RAID Host Controller ...</td>\n",
       "      <td>Electronics</td>\n",
       "      <td>2</td>\n",
       "    </tr>\n",
       "    <tr>\n",
       "      <th>3</th>\n",
       "      <td>ISAKAA Baby Socks from Just Born to 8 Years- P...</td>\n",
       "      <td>Clothing &amp; Accessories</td>\n",
       "      <td>3</td>\n",
       "    </tr>\n",
       "    <tr>\n",
       "      <th>4</th>\n",
       "      <td>Indira Designer Women's Art Mysore Silk Saree ...</td>\n",
       "      <td>Clothing &amp; Accessories</td>\n",
       "      <td>3</td>\n",
       "    </tr>\n",
       "  </tbody>\n",
       "</table>\n",
       "</div>"
      ],
      "text/plain": [
       "                                                Text                   label  label_num\n",
       "0  Urban Ladder Eisner Low Back Study-Office Comp...               Household          0\n",
       "1  Contrast living Wooden Decorative Box,Painted ...               Household          0\n",
       "2  IO Crest SY-PCI40010 PCI RAID Host Controller ...             Electronics          2\n",
       "3  ISAKAA Baby Socks from Just Born to 8 Years- P...  Clothing & Accessories          3\n",
       "4  Indira Designer Women's Art Mysore Silk Saree ...  Clothing & Accessories          3"
      ]
     },
     "execution_count": 25,
     "metadata": {},
     "output_type": "execute_result"
    }
   ],
   "source": [
    "df['label_num']=df.label.map({\n",
    "    'Household':0,\n",
    "    'Books':1,\n",
    "    'Electronics':2,\n",
    "    'Clothing & Accessories':3\n",
    "})\n",
    "df.head()"
   ]
  },
  {
   "cell_type": "code",
   "execution_count": 27,
   "id": "216a904b-03e2-409e-9608-4bdf386e1a3e",
   "metadata": {},
   "outputs": [],
   "source": [
    "from sklearn.model_selection import train_test_split\n",
    "\n",
    "X_train,X_test,y_train,y_test=train_test_split(df.Text,df.label_num,test_size=0.2,random_state=2022,stratify=df.label_num)"
   ]
  },
  {
   "cell_type": "code",
   "execution_count": 29,
   "id": "631f2ac7-dc9c-465f-afa9-9fa7819bc59c",
   "metadata": {},
   "outputs": [
    {
     "name": "stdout",
     "output_type": "stream",
     "text": [
      "(19200,)\n",
      "(4800,)\n"
     ]
    }
   ],
   "source": [
    "print(X_train.shape)\n",
    "print(X_test.shape)"
   ]
  },
  {
   "cell_type": "code",
   "execution_count": 30,
   "id": "143287d6-2452-42ac-94ac-571a1ec5562a",
   "metadata": {},
   "outputs": [
    {
     "data": {
      "text/plain": [
       "label_num\n",
       "0    4800\n",
       "2    4800\n",
       "3    4800\n",
       "1    4800\n",
       "Name: count, dtype: int64"
      ]
     },
     "execution_count": 30,
     "metadata": {},
     "output_type": "execute_result"
    }
   ],
   "source": [
    "y_train.value_counts()"
   ]
  },
  {
   "cell_type": "code",
   "execution_count": 33,
   "id": "923568f0-5735-4648-bc56-c0543613b573",
   "metadata": {},
   "outputs": [
    {
     "name": "stdout",
     "output_type": "stream",
     "text": [
      "              precision    recall  f1-score   support\n",
      "\n",
      "           0       0.95      0.96      0.95      1200\n",
      "           1       0.97      0.95      0.96      1200\n",
      "           2       0.97      0.97      0.97      1200\n",
      "           3       0.97      0.98      0.97      1200\n",
      "\n",
      "    accuracy                           0.96      4800\n",
      "   macro avg       0.96      0.96      0.96      4800\n",
      "weighted avg       0.96      0.96      0.96      4800\n",
      "\n"
     ]
    }
   ],
   "source": [
    "from sklearn.neighbors import KNeighborsClassifier\n",
    "from sklearn.pipeline import Pipeline\n",
    "from sklearn.feature_extraction.text import TfidfVectorizer\n",
    "from sklearn.metrics import classification_report\n",
    "\n",
    "clf = Pipeline([\n",
    "    ('vectorizer_tfidf', TfidfVectorizer()),\n",
    "    ('KNN', KNeighborsClassifier())\n",
    "])\n",
    "\n",
    "clf.fit(X_train, y_train)\n",
    "y_pred = clf.predict(X_test)\n",
    "\n",
    "print(classification_report(y_test, y_pred))\n",
    "\n",
    "# ✅ TfidfVectorizer() → converts your text data into numeric TF-IDF features.\n",
    "# ✅ KNeighborsClassifier() → applies K-NN classification on these features.\n",
    "# ✅ Pipeline → chains them together so when you call fit() or predict(), it automatically transforms text → TF-IDF → predicts.\n",
    "# ✅ classification_report → gives you precision, recall, f1-score for each class"
   ]
  },
  {
   "cell_type": "code",
   "execution_count": 34,
   "id": "c2d78397-bec6-40c9-8847-75f3e2fe4b63",
   "metadata": {},
   "outputs": [
    {
     "data": {
      "text/plain": [
       "20706    Lal Haveli Designer Handmade Patchwork Decorat...\n",
       "19166    GOTOTOP Classical Retro Cotton & PU Leather Ne...\n",
       "15209    FabSeasons Camouflage Polyester Multi Function...\n",
       "2462     Indian Superfoods: Change the Way You Eat Revi...\n",
       "Name: Text, dtype: object"
      ]
     },
     "execution_count": 34,
     "metadata": {},
     "output_type": "execute_result"
    }
   ],
   "source": [
    "X_test[:4][19166]"
   ]
  },
  {
   "cell_type": "code",
   "execution_count": 36,
   "id": "075bc7b5-dcdc-4368-a203-5cebbe82fc84",
   "metadata": {},
   "outputs": [
    {
     "data": {
      "text/plain": [
       "'GOTOTOP Classical Retro Cotton & PU Leather Neck Shoulder Strap Anti-Slip for SLR DSLR Cameras (Charcoal Grey) Colour:Charcoal Grey   Specifications: Material: Cotton + PU Leather  Color: Charcoal Grey, Brown (as show in the pictures)  Weight: approx. 40g  Main Belt Length: approx. 70cm/27.55\"  Width: approx. 3.5cm/1.37\"  Fit For: All kind of brand SLR cameras, Part of micro single cameras  Package Included: 1 x camera shoulder neck strap (The camera is not included)'"
      ]
     },
     "execution_count": 36,
     "metadata": {},
     "output_type": "execute_result"
    }
   ],
   "source": [
    "X_test[:4][19166] #electronic"
   ]
  },
  {
   "cell_type": "code",
   "execution_count": 35,
   "id": "c4469d6f-c900-4ee2-af4a-c17858fd1bf8",
   "metadata": {},
   "outputs": [
    {
     "data": {
      "text/plain": [
       "array([0, 2, 3, 1])"
      ]
     },
     "execution_count": 35,
     "metadata": {},
     "output_type": "execute_result"
    }
   ],
   "source": [
    "y_pred[:4]"
   ]
  },
  {
   "cell_type": "markdown",
   "id": "d3144d3e-e571-4cc2-b007-46030370ee5b",
   "metadata": {},
   "source": [
    "Use text pre-processing to remove stop words, punctuations and apply lemmatization"
   ]
  },
  {
   "cell_type": "code",
   "execution_count": 38,
   "id": "579e79b5-f2ca-44c8-bd03-f9510de2d34b",
   "metadata": {},
   "outputs": [],
   "source": [
    "### utlity function for pre-processing the text\n",
    "import spacy\n",
    "\n",
    "# load english language model and create nlp object from it\n",
    "nlp = spacy.load(\"en_core_web_sm\") \n",
    "\n",
    "def preprocess(text):\n",
    "    # remove stop words and lemmatize the text\n",
    "    doc = nlp(text)\n",
    "    filtered_tokens = []\n",
    "    for token in doc:\n",
    "        if token.is_stop or token.is_punct:\n",
    "            continue\n",
    "        filtered_tokens.append(token.lemma_)\n",
    "    \n",
    "    return \" \".join(filtered_tokens) "
   ]
  },
  {
   "cell_type": "code",
   "execution_count": null,
   "id": "3e257afc-54ac-4107-9c1b-bf8eb49f6725",
   "metadata": {},
   "outputs": [],
   "source": [
    "\n",
    "df['preprocessed_txt'] = df['Text'].apply(preprocess) \n",
    "df.head()"
   ]
  },
  {
   "cell_type": "code",
   "execution_count": null,
   "id": "2775809b-080b-4d7c-8c70-7b9bc3cd0a0f",
   "metadata": {},
   "outputs": [],
   "source": [
    "df.Text[0]"
   ]
  },
  {
   "cell_type": "code",
   "execution_count": null,
   "id": "e2884daa-4b97-4556-8705-0c276556c4c1",
   "metadata": {},
   "outputs": [],
   "source": [
    "df.preprocessed_txt[0]"
   ]
  },
  {
   "cell_type": "code",
   "execution_count": null,
   "id": "d5cfed4d-1e32-4ed6-90e1-781ce7076941",
   "metadata": {},
   "outputs": [],
   "source": [
    "X_train, X_test, y_train, y_test = train_test_split(\n",
    "    df.preprocessed_txt, \n",
    "    df.label_num,\n",
    "    test_size=0.2, # 20% samples will go to test dataset\n",
    "    random_state=2022,\n",
    "    stratify=df.label_num\n",
    ")"
   ]
  }
 ],
 "metadata": {
  "kernelspec": {
   "display_name": "Python 3 (ipykernel)",
   "language": "python",
   "name": "python3"
  },
  "language_info": {
   "codemirror_mode": {
    "name": "ipython",
    "version": 3
   },
   "file_extension": ".py",
   "mimetype": "text/x-python",
   "name": "python",
   "nbconvert_exporter": "python",
   "pygments_lexer": "ipython3",
   "version": "3.12.10"
  }
 },
 "nbformat": 4,
 "nbformat_minor": 5
}
