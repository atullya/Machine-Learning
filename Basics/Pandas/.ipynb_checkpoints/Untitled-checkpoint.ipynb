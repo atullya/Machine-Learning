{
 "cells": [
  {
   "cell_type": "code",
   "execution_count": null,
   "id": "9ef4a8a6-0706-4bcd-94ee-03b1a79f4e42",
   "metadata": {},
   "outputs": [],
   "source": [
    "#Pandas is a Python library that provides data structures and functions designed for data analysis and manipulation."
   ]
  },
  {
   "cell_type": "code",
   "execution_count": 1,
   "id": "ceb89a62-93cd-415e-909c-3404b0f7223d",
   "metadata": {},
   "outputs": [],
   "source": [
    "import pandas as pd"
   ]
  },
  {
   "cell_type": "code",
   "execution_count": 2,
   "id": "6b50cc01-a618-4e32-ad30-0b6fe3da471f",
   "metadata": {},
   "outputs": [
    {
     "data": {
      "text/html": [
       "<div>\n",
       "<style scoped>\n",
       "    .dataframe tbody tr th:only-of-type {\n",
       "        vertical-align: middle;\n",
       "    }\n",
       "\n",
       "    .dataframe tbody tr th {\n",
       "        vertical-align: top;\n",
       "    }\n",
       "\n",
       "    .dataframe thead th {\n",
       "        text-align: right;\n",
       "    }\n",
       "</style>\n",
       "<table border=\"1\" class=\"dataframe\">\n",
       "  <thead>\n",
       "    <tr style=\"text-align: right;\">\n",
       "      <th></th>\n",
       "      <th>Index</th>\n",
       "      <th>Organization Id</th>\n",
       "      <th>Name</th>\n",
       "      <th>Website</th>\n",
       "      <th>Country</th>\n",
       "      <th>Description</th>\n",
       "      <th>Founded</th>\n",
       "      <th>Industry</th>\n",
       "      <th>Number of employees</th>\n",
       "    </tr>\n",
       "  </thead>\n",
       "  <tbody>\n",
       "    <tr>\n",
       "      <th>0</th>\n",
       "      <td>1</td>\n",
       "      <td>522816eF8fdBE6d</td>\n",
       "      <td>Mckinney PLC</td>\n",
       "      <td>http://soto.com/</td>\n",
       "      <td>Sri Lanka</td>\n",
       "      <td>Synergized global system engine</td>\n",
       "      <td>1988</td>\n",
       "      <td>Dairy</td>\n",
       "      <td>3930</td>\n",
       "    </tr>\n",
       "    <tr>\n",
       "      <th>1</th>\n",
       "      <td>2</td>\n",
       "      <td>70C7FBD7e6Aa3Ea</td>\n",
       "      <td>Cunningham LLC</td>\n",
       "      <td>http://harding-duffy.com/</td>\n",
       "      <td>Namibia</td>\n",
       "      <td>Team-oriented fault-tolerant adapter</td>\n",
       "      <td>2018</td>\n",
       "      <td>Library</td>\n",
       "      <td>7871</td>\n",
       "    </tr>\n",
       "    <tr>\n",
       "      <th>2</th>\n",
       "      <td>3</td>\n",
       "      <td>428B397eA2d7290</td>\n",
       "      <td>Ruiz-Walls</td>\n",
       "      <td>http://www.atkins.biz/</td>\n",
       "      <td>Iran</td>\n",
       "      <td>Re-contextualized bifurcated moderator</td>\n",
       "      <td>2003</td>\n",
       "      <td>Hospital / Health Care</td>\n",
       "      <td>3095</td>\n",
       "    </tr>\n",
       "    <tr>\n",
       "      <th>3</th>\n",
       "      <td>4</td>\n",
       "      <td>9D234Ae8Cc51C1c</td>\n",
       "      <td>Parrish, Osborne and Clarke</td>\n",
       "      <td>http://salazar.info/</td>\n",
       "      <td>British Indian Ocean Territory (Chagos Archipe...</td>\n",
       "      <td>Fully-configurable next generation concept</td>\n",
       "      <td>1989</td>\n",
       "      <td>Supermarkets</td>\n",
       "      <td>5422</td>\n",
       "    </tr>\n",
       "    <tr>\n",
       "      <th>4</th>\n",
       "      <td>5</td>\n",
       "      <td>6CDCcdE3D0b7b44</td>\n",
       "      <td>Diaz, Robles and Haley</td>\n",
       "      <td>https://www.brooks-scott.net/</td>\n",
       "      <td>Botswana</td>\n",
       "      <td>Inverse intangible methodology</td>\n",
       "      <td>2013</td>\n",
       "      <td>Nanotechnology</td>\n",
       "      <td>3135</td>\n",
       "    </tr>\n",
       "  </tbody>\n",
       "</table>\n",
       "</div>"
      ],
      "text/plain": [
       "   Index  Organization Id                         Name  \\\n",
       "0      1  522816eF8fdBE6d                 Mckinney PLC   \n",
       "1      2  70C7FBD7e6Aa3Ea               Cunningham LLC   \n",
       "2      3  428B397eA2d7290                   Ruiz-Walls   \n",
       "3      4  9D234Ae8Cc51C1c  Parrish, Osborne and Clarke   \n",
       "4      5  6CDCcdE3D0b7b44       Diaz, Robles and Haley   \n",
       "\n",
       "                         Website  \\\n",
       "0               http://soto.com/   \n",
       "1      http://harding-duffy.com/   \n",
       "2         http://www.atkins.biz/   \n",
       "3           http://salazar.info/   \n",
       "4  https://www.brooks-scott.net/   \n",
       "\n",
       "                                             Country  \\\n",
       "0                                          Sri Lanka   \n",
       "1                                            Namibia   \n",
       "2                                               Iran   \n",
       "3  British Indian Ocean Territory (Chagos Archipe...   \n",
       "4                                           Botswana   \n",
       "\n",
       "                                  Description  Founded  \\\n",
       "0             Synergized global system engine     1988   \n",
       "1        Team-oriented fault-tolerant adapter     2018   \n",
       "2      Re-contextualized bifurcated moderator     2003   \n",
       "3  Fully-configurable next generation concept     1989   \n",
       "4              Inverse intangible methodology     2013   \n",
       "\n",
       "                 Industry  Number of employees  \n",
       "0                   Dairy                 3930  \n",
       "1                 Library                 7871  \n",
       "2  Hospital / Health Care                 3095  \n",
       "3            Supermarkets                 5422  \n",
       "4          Nanotechnology                 3135  "
      ]
     },
     "execution_count": 2,
     "metadata": {},
     "output_type": "execute_result"
    }
   ],
   "source": [
    "data_path=\"organizations-10000.csv\"\n",
    "df=pd.read_csv(data_path)\n",
    "# print(df.head())\n",
    "df.head()"
   ]
  },
  {
   "cell_type": "code",
   "execution_count": 3,
   "id": "302f4821-ecb4-4521-94d2-0e16659af297",
   "metadata": {},
   "outputs": [
    {
     "data": {
      "text/html": [
       "<div>\n",
       "<style scoped>\n",
       "    .dataframe tbody tr th:only-of-type {\n",
       "        vertical-align: middle;\n",
       "    }\n",
       "\n",
       "    .dataframe tbody tr th {\n",
       "        vertical-align: top;\n",
       "    }\n",
       "\n",
       "    .dataframe thead th {\n",
       "        text-align: right;\n",
       "    }\n",
       "</style>\n",
       "<table border=\"1\" class=\"dataframe\">\n",
       "  <thead>\n",
       "    <tr style=\"text-align: right;\">\n",
       "      <th></th>\n",
       "      <th>Index</th>\n",
       "      <th>Organization Id</th>\n",
       "      <th>Name</th>\n",
       "      <th>Website</th>\n",
       "      <th>Country</th>\n",
       "      <th>Description</th>\n",
       "      <th>Founded</th>\n",
       "      <th>Industry</th>\n",
       "      <th>Number of employees</th>\n",
       "    </tr>\n",
       "  </thead>\n",
       "  <tbody>\n",
       "    <tr>\n",
       "      <th>9998</th>\n",
       "      <td>9999</td>\n",
       "      <td>01D2539e270CEbd</td>\n",
       "      <td>Wolfe-Mckee</td>\n",
       "      <td>http://www.parks.com/</td>\n",
       "      <td>Togo</td>\n",
       "      <td>Balanced value-added ability</td>\n",
       "      <td>1975</td>\n",
       "      <td>Environmental Services</td>\n",
       "      <td>2505</td>\n",
       "    </tr>\n",
       "    <tr>\n",
       "      <th>9999</th>\n",
       "      <td>10000</td>\n",
       "      <td>0D3b7DcFA21d92d</td>\n",
       "      <td>Beck LLC</td>\n",
       "      <td>https://wagner-glover.com/</td>\n",
       "      <td>Georgia</td>\n",
       "      <td>Decentralized context-sensitive service-desk</td>\n",
       "      <td>2007</td>\n",
       "      <td>Wireless</td>\n",
       "      <td>4552</td>\n",
       "    </tr>\n",
       "  </tbody>\n",
       "</table>\n",
       "</div>"
      ],
      "text/plain": [
       "      Index  Organization Id         Name                     Website  \\\n",
       "9998   9999  01D2539e270CEbd  Wolfe-Mckee       http://www.parks.com/   \n",
       "9999  10000  0D3b7DcFA21d92d     Beck LLC  https://wagner-glover.com/   \n",
       "\n",
       "      Country                                   Description  Founded  \\\n",
       "9998     Togo                  Balanced value-added ability     1975   \n",
       "9999  Georgia  Decentralized context-sensitive service-desk     2007   \n",
       "\n",
       "                    Industry  Number of employees  \n",
       "9998  Environmental Services                 2505  \n",
       "9999                Wireless                 4552  "
      ]
     },
     "execution_count": 3,
     "metadata": {},
     "output_type": "execute_result"
    }
   ],
   "source": [
    "df.tail(2)"
   ]
  },
  {
   "cell_type": "code",
   "execution_count": 6,
   "id": "dbf81784-2459-412b-908e-b4b5d94a1aac",
   "metadata": {},
   "outputs": [
    {
     "data": {
      "text/plain": [
       "10000"
      ]
     },
     "execution_count": 6,
     "metadata": {},
     "output_type": "execute_result"
    }
   ],
   "source": [
    "df['Index'].max()"
   ]
  },
  {
   "cell_type": "code",
   "execution_count": 8,
   "id": "d9a1b08a-d74a-49a6-a83e-6ca05e915fc1",
   "metadata": {},
   "outputs": [
    {
     "data": {
      "text/plain": [
       "Index                                          1\n",
       "Organization Id                  001d9DeBfFD6DD3\n",
       "Name                                  Abbott Inc\n",
       "Website                       http://abbott.net/\n",
       "Country                              Afghanistan\n",
       "Description            Adaptive 24/7 focus group\n",
       "Founded                                     1970\n",
       "Industry                              Accounting\n",
       "Number of employees                            1\n",
       "dtype: object"
      ]
     },
     "execution_count": 8,
     "metadata": {},
     "output_type": "execute_result"
    }
   ],
   "source": [
    "df.min()"
   ]
  },
  {
   "cell_type": "code",
   "execution_count": 9,
   "id": "cec279e5-c5ee-4f49-9e8c-1d26ce8090cb",
   "metadata": {},
   "outputs": [
    {
     "data": {
      "text/html": [
       "<div>\n",
       "<style scoped>\n",
       "    .dataframe tbody tr th:only-of-type {\n",
       "        vertical-align: middle;\n",
       "    }\n",
       "\n",
       "    .dataframe tbody tr th {\n",
       "        vertical-align: top;\n",
       "    }\n",
       "\n",
       "    .dataframe thead th {\n",
       "        text-align: right;\n",
       "    }\n",
       "</style>\n",
       "<table border=\"1\" class=\"dataframe\">\n",
       "  <thead>\n",
       "    <tr style=\"text-align: right;\">\n",
       "      <th></th>\n",
       "      <th>Index</th>\n",
       "      <th>Organization Id</th>\n",
       "      <th>Name</th>\n",
       "      <th>Website</th>\n",
       "      <th>Country</th>\n",
       "      <th>Description</th>\n",
       "      <th>Founded</th>\n",
       "      <th>Industry</th>\n",
       "      <th>Number of employees</th>\n",
       "    </tr>\n",
       "  </thead>\n",
       "  <tbody>\n",
       "    <tr>\n",
       "      <th>9466</th>\n",
       "      <td>9467</td>\n",
       "      <td>C6EF7134bfa3B58</td>\n",
       "      <td>Cardenas Inc</td>\n",
       "      <td>http://hood.com/</td>\n",
       "      <td>Kyrgyz Republic</td>\n",
       "      <td>Customer-focused global frame</td>\n",
       "      <td>2014</td>\n",
       "      <td>Accounting</td>\n",
       "      <td>5623</td>\n",
       "    </tr>\n",
       "    <tr>\n",
       "      <th>3396</th>\n",
       "      <td>3397</td>\n",
       "      <td>9DB9BEb1a7cbcC2</td>\n",
       "      <td>Silva LLC</td>\n",
       "      <td>http://www.daugherty-norton.org/</td>\n",
       "      <td>Zimbabwe</td>\n",
       "      <td>Phased tertiary capability</td>\n",
       "      <td>2022</td>\n",
       "      <td>Aviation / Aerospace</td>\n",
       "      <td>1209</td>\n",
       "    </tr>\n",
       "    <tr>\n",
       "      <th>4180</th>\n",
       "      <td>4181</td>\n",
       "      <td>aDDCcefDD1F412e</td>\n",
       "      <td>Pennington Ltd</td>\n",
       "      <td>http://zuniga.info/</td>\n",
       "      <td>Bahamas</td>\n",
       "      <td>Multi-lateral optimizing emulation</td>\n",
       "      <td>1978</td>\n",
       "      <td>Public Relations / PR</td>\n",
       "      <td>9642</td>\n",
       "    </tr>\n",
       "    <tr>\n",
       "      <th>4087</th>\n",
       "      <td>4088</td>\n",
       "      <td>EfCa7f0Dae49aAb</td>\n",
       "      <td>Wilkerson Group</td>\n",
       "      <td>http://weaver-keith.com/</td>\n",
       "      <td>Samoa</td>\n",
       "      <td>Intuitive asymmetric firmware</td>\n",
       "      <td>1971</td>\n",
       "      <td>Outsourcing / Offshoring</td>\n",
       "      <td>1510</td>\n",
       "    </tr>\n",
       "  </tbody>\n",
       "</table>\n",
       "</div>"
      ],
      "text/plain": [
       "      Index  Organization Id             Name  \\\n",
       "9466   9467  C6EF7134bfa3B58     Cardenas Inc   \n",
       "3396   3397  9DB9BEb1a7cbcC2        Silva LLC   \n",
       "4180   4181  aDDCcefDD1F412e   Pennington Ltd   \n",
       "4087   4088  EfCa7f0Dae49aAb  Wilkerson Group   \n",
       "\n",
       "                               Website          Country  \\\n",
       "9466                  http://hood.com/  Kyrgyz Republic   \n",
       "3396  http://www.daugherty-norton.org/         Zimbabwe   \n",
       "4180               http://zuniga.info/          Bahamas   \n",
       "4087          http://weaver-keith.com/            Samoa   \n",
       "\n",
       "                             Description  Founded                  Industry  \\\n",
       "9466       Customer-focused global frame     2014                Accounting   \n",
       "3396          Phased tertiary capability     2022      Aviation / Aerospace   \n",
       "4180  Multi-lateral optimizing emulation     1978     Public Relations / PR   \n",
       "4087       Intuitive asymmetric firmware     1971  Outsourcing / Offshoring   \n",
       "\n",
       "      Number of employees  \n",
       "9466                 5623  \n",
       "3396                 1209  \n",
       "4180                 9642  \n",
       "4087                 1510  "
      ]
     },
     "execution_count": 9,
     "metadata": {},
     "output_type": "execute_result"
    }
   ],
   "source": [
    "df.sample(4)"
   ]
  },
  {
   "cell_type": "code",
   "execution_count": 17,
   "id": "c8a4fc64-a2e8-4e2f-8c27-1b9b415f42fa",
   "metadata": {},
   "outputs": [
    {
     "name": "stdout",
     "output_type": "stream",
     "text": [
      "Index([   0,    1,    2,    3,    4,    5,    6,    7,    8,    9,\n",
      "       ...\n",
      "       9990, 9991, 9992, 9993, 9994, 9995, 9996, 9997, 9998, 9999],\n",
      "      dtype='int64', length=10000)\n"
     ]
    }
   ],
   "source": [
    "matches = df.index[df['Name'] == 'Cardenas']\n",
    "print(matches)"
   ]
  },
  {
   "cell_type": "code",
   "execution_count": 20,
   "id": "9e2522e3-750c-43bc-aeae-70df3b959cd5",
   "metadata": {},
   "outputs": [
    {
     "data": {
      "text/plain": [
       "Series([], Name: Name, dtype: object)"
      ]
     },
     "execution_count": 20,
     "metadata": {},
     "output_type": "execute_result"
    }
   ],
   "source": [
    "df.loc[df['Index'] == '2', 'Name']\n"
   ]
  },
  {
   "cell_type": "code",
   "execution_count": 21,
   "id": "e8d76cff-16ba-47eb-af48-91653cfd68d1",
   "metadata": {
    "scrolled": true
   },
   "outputs": [
    {
     "data": {
      "text/plain": [
       "1    Cardenas\n",
       "Name: Name, dtype: object"
      ]
     },
     "execution_count": 21,
     "metadata": {},
     "output_type": "execute_result"
    }
   ],
   "source": [
    "df[df['Index'] == 2]['Name']"
   ]
  },
  {
   "cell_type": "code",
   "execution_count": 22,
   "id": "ebad8451-cfe5-4dd2-a2fa-25fe564be7fd",
   "metadata": {},
   "outputs": [
    {
     "data": {
      "text/html": [
       "<div>\n",
       "<style scoped>\n",
       "    .dataframe tbody tr th:only-of-type {\n",
       "        vertical-align: middle;\n",
       "    }\n",
       "\n",
       "    .dataframe tbody tr th {\n",
       "        vertical-align: top;\n",
       "    }\n",
       "\n",
       "    .dataframe thead th {\n",
       "        text-align: right;\n",
       "    }\n",
       "</style>\n",
       "<table border=\"1\" class=\"dataframe\">\n",
       "  <thead>\n",
       "    <tr style=\"text-align: right;\">\n",
       "      <th></th>\n",
       "      <th>Index</th>\n",
       "      <th>Founded</th>\n",
       "      <th>Number of employees</th>\n",
       "    </tr>\n",
       "  </thead>\n",
       "  <tbody>\n",
       "    <tr>\n",
       "      <th>count</th>\n",
       "      <td>10000.00000</td>\n",
       "      <td>10000.000000</td>\n",
       "      <td>10000.000000</td>\n",
       "    </tr>\n",
       "    <tr>\n",
       "      <th>mean</th>\n",
       "      <td>5000.50000</td>\n",
       "      <td>1995.776700</td>\n",
       "      <td>4961.321000</td>\n",
       "    </tr>\n",
       "    <tr>\n",
       "      <th>std</th>\n",
       "      <td>2886.89568</td>\n",
       "      <td>14.991608</td>\n",
       "      <td>2911.862096</td>\n",
       "    </tr>\n",
       "    <tr>\n",
       "      <th>min</th>\n",
       "      <td>1.00000</td>\n",
       "      <td>1970.000000</td>\n",
       "      <td>1.000000</td>\n",
       "    </tr>\n",
       "    <tr>\n",
       "      <th>25%</th>\n",
       "      <td>2500.75000</td>\n",
       "      <td>1983.000000</td>\n",
       "      <td>2446.750000</td>\n",
       "    </tr>\n",
       "    <tr>\n",
       "      <th>50%</th>\n",
       "      <td>5000.50000</td>\n",
       "      <td>1996.000000</td>\n",
       "      <td>4894.000000</td>\n",
       "    </tr>\n",
       "    <tr>\n",
       "      <th>75%</th>\n",
       "      <td>7500.25000</td>\n",
       "      <td>2009.000000</td>\n",
       "      <td>7530.000000</td>\n",
       "    </tr>\n",
       "    <tr>\n",
       "      <th>max</th>\n",
       "      <td>10000.00000</td>\n",
       "      <td>2022.000000</td>\n",
       "      <td>9999.000000</td>\n",
       "    </tr>\n",
       "  </tbody>\n",
       "</table>\n",
       "</div>"
      ],
      "text/plain": [
       "             Index       Founded  Number of employees\n",
       "count  10000.00000  10000.000000         10000.000000\n",
       "mean    5000.50000   1995.776700          4961.321000\n",
       "std     2886.89568     14.991608          2911.862096\n",
       "min        1.00000   1970.000000             1.000000\n",
       "25%     2500.75000   1983.000000          2446.750000\n",
       "50%     5000.50000   1996.000000          4894.000000\n",
       "75%     7500.25000   2009.000000          7530.000000\n",
       "max    10000.00000   2022.000000          9999.000000"
      ]
     },
     "execution_count": 22,
     "metadata": {},
     "output_type": "execute_result"
    }
   ],
   "source": [
    "df.describe()"
   ]
  },
  {
   "cell_type": "code",
   "execution_count": 23,
   "id": "7fa58ea1-272c-4ab7-a6bd-c889b9980625",
   "metadata": {},
   "outputs": [
    {
     "data": {
      "text/plain": [
       "Index(['Index', 'Organization Id', 'Name', 'Website', 'Country', 'Description',\n",
       "       'Founded', 'Industry', 'Number of employees'],\n",
       "      dtype='object')"
      ]
     },
     "execution_count": 23,
     "metadata": {},
     "output_type": "execute_result"
    }
   ],
   "source": [
    "df.columns"
   ]
  },
  {
   "cell_type": "code",
   "execution_count": 24,
   "id": "6b4edc93-14e1-423c-a10f-db96a82858a3",
   "metadata": {},
   "outputs": [
    {
     "data": {
      "text/plain": [
       "0       3930\n",
       "1       7871\n",
       "2       3095\n",
       "3       5422\n",
       "4       3135\n",
       "        ... \n",
       "9995    6123\n",
       "9996    9043\n",
       "9997    8951\n",
       "9998    2505\n",
       "9999    4552\n",
       "Name: Number of employees, Length: 10000, dtype: int64"
      ]
     },
     "execution_count": 24,
     "metadata": {},
     "output_type": "execute_result"
    }
   ],
   "source": [
    "df['Number of employees']"
   ]
  },
  {
   "cell_type": "code",
   "execution_count": 27,
   "id": "0f11cdd3-6f31-4a9b-8e3d-9e86014ef356",
   "metadata": {},
   "outputs": [
    {
     "data": {
      "text/plain": [
       "0       Cardenas\n",
       "1       Cardenas\n",
       "2       Cardenas\n",
       "3       Cardenas\n",
       "4       Cardenas\n",
       "          ...   \n",
       "9995    Cardenas\n",
       "9996    Cardenas\n",
       "9997    Cardenas\n",
       "9998    Cardenas\n",
       "9999    Cardenas\n",
       "Name: Name, Length: 10000, dtype: object"
      ]
     },
     "execution_count": 27,
     "metadata": {},
     "output_type": "execute_result"
    }
   ],
   "source": [
    "df['Name']"
   ]
  },
  {
   "cell_type": "code",
   "execution_count": 28,
   "id": "032660aa-84d9-4dee-8d8f-a4114dca3637",
   "metadata": {},
   "outputs": [
    {
     "data": {
      "text/html": [
       "<div>\n",
       "<style scoped>\n",
       "    .dataframe tbody tr th:only-of-type {\n",
       "        vertical-align: middle;\n",
       "    }\n",
       "\n",
       "    .dataframe tbody tr th {\n",
       "        vertical-align: top;\n",
       "    }\n",
       "\n",
       "    .dataframe thead th {\n",
       "        text-align: right;\n",
       "    }\n",
       "</style>\n",
       "<table border=\"1\" class=\"dataframe\">\n",
       "  <thead>\n",
       "    <tr style=\"text-align: right;\">\n",
       "      <th></th>\n",
       "      <th>Name</th>\n",
       "    </tr>\n",
       "  </thead>\n",
       "  <tbody>\n",
       "    <tr>\n",
       "      <th>0</th>\n",
       "      <td>Cardenas</td>\n",
       "    </tr>\n",
       "    <tr>\n",
       "      <th>1</th>\n",
       "      <td>Cardenas</td>\n",
       "    </tr>\n",
       "    <tr>\n",
       "      <th>2</th>\n",
       "      <td>Cardenas</td>\n",
       "    </tr>\n",
       "    <tr>\n",
       "      <th>3</th>\n",
       "      <td>Cardenas</td>\n",
       "    </tr>\n",
       "    <tr>\n",
       "      <th>4</th>\n",
       "      <td>Cardenas</td>\n",
       "    </tr>\n",
       "    <tr>\n",
       "      <th>...</th>\n",
       "      <td>...</td>\n",
       "    </tr>\n",
       "    <tr>\n",
       "      <th>9995</th>\n",
       "      <td>Cardenas</td>\n",
       "    </tr>\n",
       "    <tr>\n",
       "      <th>9996</th>\n",
       "      <td>Cardenas</td>\n",
       "    </tr>\n",
       "    <tr>\n",
       "      <th>9997</th>\n",
       "      <td>Cardenas</td>\n",
       "    </tr>\n",
       "    <tr>\n",
       "      <th>9998</th>\n",
       "      <td>Cardenas</td>\n",
       "    </tr>\n",
       "    <tr>\n",
       "      <th>9999</th>\n",
       "      <td>Cardenas</td>\n",
       "    </tr>\n",
       "  </tbody>\n",
       "</table>\n",
       "<p>10000 rows × 1 columns</p>\n",
       "</div>"
      ],
      "text/plain": [
       "          Name\n",
       "0     Cardenas\n",
       "1     Cardenas\n",
       "2     Cardenas\n",
       "3     Cardenas\n",
       "4     Cardenas\n",
       "...        ...\n",
       "9995  Cardenas\n",
       "9996  Cardenas\n",
       "9997  Cardenas\n",
       "9998  Cardenas\n",
       "9999  Cardenas\n",
       "\n",
       "[10000 rows x 1 columns]"
      ]
     },
     "execution_count": 28,
     "metadata": {},
     "output_type": "execute_result"
    }
   ],
   "source": [
    "df[['Name']]"
   ]
  },
  {
   "cell_type": "code",
   "execution_count": 33,
   "id": "5a2e1db9-76aa-4964-a906-08e31e87b65e",
   "metadata": {},
   "outputs": [
    {
     "data": {
      "text/plain": [
       "1                           Namibia\n",
       "112                          Serbia\n",
       "132                          Poland\n",
       "153                     Afghanistan\n",
       "193                            Togo\n",
       "                   ...             \n",
       "9702            Antigua and Barbuda\n",
       "9714                 American Samoa\n",
       "9727                          Haiti\n",
       "9941    French Southern Territories\n",
       "9996                   Turkmenistan\n",
       "Name: Country, Length: 195, dtype: object"
      ]
     },
     "execution_count": 33,
     "metadata": {},
     "output_type": "execute_result"
    }
   ],
   "source": [
    "df[df['Founded'] == 2018]['Country']"
   ]
  },
  {
   "cell_type": "code",
   "execution_count": 36,
   "id": "fc40f4bc-8dfe-4aa7-8f19-8aa0604b7e47",
   "metadata": {},
   "outputs": [
    {
     "data": {
      "text/plain": [
       "1                           Namibia\n",
       "112                          Serbia\n",
       "132                          Poland\n",
       "153                     Afghanistan\n",
       "193                            Togo\n",
       "                   ...             \n",
       "9702            Antigua and Barbuda\n",
       "9714                 American Samoa\n",
       "9727                          Haiti\n",
       "9941    French Southern Territories\n",
       "9996                   Turkmenistan\n",
       "Name: Country, Length: 195, dtype: object"
      ]
     },
     "execution_count": 36,
     "metadata": {},
     "output_type": "execute_result"
    }
   ],
   "source": [
    "df['Country'][df['Founded'] == 2018]\n"
   ]
  },
  {
   "cell_type": "code",
   "execution_count": 37,
   "id": "a7f78992-2012-49f1-8050-e9fc52cf71e0",
   "metadata": {},
   "outputs": [
    {
     "name": "stdout",
     "output_type": "stream",
     "text": [
      "<class 'pandas.core.frame.DataFrame'>\n",
      "Index: 243 entries, 0 to 1251\n",
      "Data columns (total 9 columns):\n",
      " #   Column               Non-Null Count  Dtype \n",
      "---  ------               --------------  ----- \n",
      " 0   Index                243 non-null    int64 \n",
      " 1   Organization Id      243 non-null    object\n",
      " 2   Name                 243 non-null    object\n",
      " 3   Website              243 non-null    object\n",
      " 4   Country              243 non-null    object\n",
      " 5   Description          243 non-null    object\n",
      " 6   Founded              243 non-null    int64 \n",
      " 7   Industry             243 non-null    object\n",
      " 8   Number of employees  243 non-null    int64 \n",
      "dtypes: int64(3), object(6)\n",
      "memory usage: 19.0+ KB\n"
     ]
    }
   ],
   "source": [
    "new_df=df.drop_duplicates(['Country'])\n",
    "new_df.info()"
   ]
  },
  {
   "cell_type": "code",
   "execution_count": null,
   "id": "f2a5bcf4-fd30-4f4b-bbf9-6bdd84be1524",
   "metadata": {},
   "outputs": [],
   "source": []
  },
  {
   "cell_type": "code",
   "execution_count": null,
   "id": "9d4b08dd-8f3f-4325-ab5a-0af448b3bae8",
   "metadata": {},
   "outputs": [],
   "source": []
  },
  {
   "cell_type": "code",
   "execution_count": null,
   "id": "ebafb8bb-2015-43c1-bd53-7778b20447fb",
   "metadata": {},
   "outputs": [],
   "source": []
  }
 ],
 "metadata": {
  "kernelspec": {
   "display_name": "Python 3 (ipykernel)",
   "language": "python",
   "name": "python3"
  },
  "language_info": {
   "codemirror_mode": {
    "name": "ipython",
    "version": 3
   },
   "file_extension": ".py",
   "mimetype": "text/x-python",
   "name": "python",
   "nbconvert_exporter": "python",
   "pygments_lexer": "ipython3",
   "version": "3.12.10"
  }
 },
 "nbformat": 4,
 "nbformat_minor": 5
}
